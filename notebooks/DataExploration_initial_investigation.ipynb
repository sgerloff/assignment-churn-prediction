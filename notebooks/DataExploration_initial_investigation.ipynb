{
 "cells": [
  {
   "cell_type": "code",
   "execution_count": 17,
   "metadata": {},
   "outputs": [],
   "source": [
    "import polars\n",
    "\n",
    "import plotly.express as px\n",
    "\n",
    "from sklearn.ensemble import RandomForestClassifier\n",
    "from sklearn.metrics import classification_report\n",
    "from sklearn.model_selection import train_test_split"
   ]
  },
  {
   "cell_type": "markdown",
   "metadata": {},
   "source": [
    "# Explore Dataset"
   ]
  },
  {
   "cell_type": "code",
   "execution_count": 2,
   "metadata": {},
   "outputs": [
    {
     "data": {
      "text/html": [
       "<div><style>\n",
       ".dataframe > thead > tr > th,\n",
       ".dataframe > tbody > tr > td {\n",
       "  text-align: right;\n",
       "}\n",
       "</style>\n",
       "<small>shape: (9, 16)</small><table border=\"1\" class=\"dataframe\"><thead><tr><th>describe</th><th>USER_ID</th><th>REGISTRATION_AT</th><th>TOTAL_VISIT_COUNT</th><th>LAST_VISIT_AT</th><th>TOTAL_POST_COUNT</th><th>LAST_POST_AT</th><th>TOTAL_LIKES_RECEIVED</th><th>LAST_LIKE_RECEIVED_AT</th><th>TOTAL_COMMENTS_RECEIVED</th><th>LAST_COMMENT_RECEIVED_AT</th><th>TOTAL_LIKES_GIVEN</th><th>LAST_LIKE_GIVEN_AT</th><th>TOTAL_COMMENTS_WRITTEN</th><th>LAST_COMMENT_WRITTEN_AT</th><th>CHURNED</th></tr><tr><td>str</td><td>f64</td><td>str</td><td>f64</td><td>str</td><td>f64</td><td>str</td><td>f64</td><td>str</td><td>f64</td><td>str</td><td>f64</td><td>str</td><td>f64</td><td>str</td><td>f64</td></tr></thead><tbody><tr><td>&quot;count&quot;</td><td>50000.0</td><td>&quot;50000&quot;</td><td>50000.0</td><td>&quot;50000&quot;</td><td>50000.0</td><td>&quot;50000&quot;</td><td>50000.0</td><td>&quot;50000&quot;</td><td>50000.0</td><td>&quot;50000&quot;</td><td>50000.0</td><td>&quot;50000&quot;</td><td>50000.0</td><td>&quot;50000&quot;</td><td>50000.0</td></tr><tr><td>&quot;null_count&quot;</td><td>0.0</td><td>&quot;0&quot;</td><td>0.0</td><td>&quot;0&quot;</td><td>38078.0</td><td>&quot;38078&quot;</td><td>38078.0</td><td>&quot;43607&quot;</td><td>38078.0</td><td>&quot;41856&quot;</td><td>36786.0</td><td>&quot;36786&quot;</td><td>38339.0</td><td>&quot;38339&quot;</td><td>0.0</td></tr><tr><td>&quot;mean&quot;</td><td>25000.5</td><td>null</td><td>37.2042</td><td>null</td><td>2.36051</td><td>null</td><td>2.467623</td><td>null</td><td>4.843483</td><td>null</td><td>5.270622</td><td>null</td><td>4.151273</td><td>null</td><td>0.5</td></tr><tr><td>&quot;std&quot;</td><td>14433.901067</td><td>null</td><td>59.466454</td><td>null</td><td>4.143234</td><td>null</td><td>8.533281</td><td>null</td><td>11.759609</td><td>null</td><td>16.896868</td><td>null</td><td>9.83948</td><td>null</td><td>0.500005</td></tr><tr><td>&quot;min&quot;</td><td>1.0</td><td>&quot;2022-03-01T00:…</td><td>1.0</td><td>&quot;2022-01-02&quot;</td><td>1.0</td><td>&quot;2022-03-01T13:…</td><td>0.0</td><td>&quot;2022-03-02T05:…</td><td>0.0</td><td>&quot;2022-03-01T22:…</td><td>1.0</td><td>&quot;2022-03-01T07:…</td><td>1.0</td><td>&quot;2022-03-01T09:…</td><td>0.0</td></tr><tr><td>&quot;max&quot;</td><td>50000.0</td><td>&quot;2023-02-27T23:…</td><td>491.0</td><td>&quot;2023-07-20&quot;</td><td>212.0</td><td>&quot;2023-07-19T21:…</td><td>384.0</td><td>&quot;2023-07-19T22:…</td><td>529.0</td><td>&quot;2023-07-19T22:…</td><td>720.0</td><td>&quot;2023-07-19T22:…</td><td>313.0</td><td>&quot;2023-07-19T22:…</td><td>1.0</td></tr><tr><td>&quot;median&quot;</td><td>25000.5</td><td>null</td><td>13.0</td><td>null</td><td>1.0</td><td>null</td><td>1.0</td><td>null</td><td>2.0</td><td>null</td><td>2.0</td><td>null</td><td>2.0</td><td>null</td><td>0.5</td></tr><tr><td>&quot;25%&quot;</td><td>12501.0</td><td>null</td><td>4.0</td><td>null</td><td>1.0</td><td>null</td><td>0.0</td><td>null</td><td>0.0</td><td>null</td><td>1.0</td><td>null</td><td>1.0</td><td>null</td><td>null</td></tr><tr><td>&quot;75%&quot;</td><td>37501.0</td><td>null</td><td>42.0</td><td>null</td><td>2.0</td><td>null</td><td>2.0</td><td>null</td><td>5.0</td><td>null</td><td>4.0</td><td>null</td><td>4.0</td><td>null</td><td>null</td></tr></tbody></table></div>"
      ],
      "text/plain": [
       "shape: (9, 16)\n",
       "┌───────────┬───────────┬───────────┬───────────┬───┬───────────┬───────────┬───────────┬──────────┐\n",
       "│ describe  ┆ USER_ID   ┆ REGISTRAT ┆ TOTAL_VIS ┆ … ┆ LAST_LIKE ┆ TOTAL_COM ┆ LAST_COMM ┆ CHURNED  │\n",
       "│ ---       ┆ ---       ┆ ION_AT    ┆ IT_COUNT  ┆   ┆ _GIVEN_AT ┆ MENTS_WRI ┆ ENT_WRITT ┆ ---      │\n",
       "│ str       ┆ f64       ┆ ---       ┆ ---       ┆   ┆ ---       ┆ TTEN      ┆ EN_AT     ┆ f64      │\n",
       "│           ┆           ┆ str       ┆ f64       ┆   ┆ str       ┆ ---       ┆ ---       ┆          │\n",
       "│           ┆           ┆           ┆           ┆   ┆           ┆ f64       ┆ str       ┆          │\n",
       "╞═══════════╪═══════════╪═══════════╪═══════════╪═══╪═══════════╪═══════════╪═══════════╪══════════╡\n",
       "│ count     ┆ 50000.0   ┆ 50000     ┆ 50000.0   ┆ … ┆ 50000     ┆ 50000.0   ┆ 50000     ┆ 50000.0  │\n",
       "│ null_coun ┆ 0.0       ┆ 0         ┆ 0.0       ┆ … ┆ 36786     ┆ 38339.0   ┆ 38339     ┆ 0.0      │\n",
       "│ t         ┆           ┆           ┆           ┆   ┆           ┆           ┆           ┆          │\n",
       "│ mean      ┆ 25000.5   ┆ null      ┆ 37.2042   ┆ … ┆ null      ┆ 4.151273  ┆ null      ┆ 0.5      │\n",
       "│ std       ┆ 14433.901 ┆ null      ┆ 59.466454 ┆ … ┆ null      ┆ 9.83948   ┆ null      ┆ 0.500005 │\n",
       "│           ┆ 067       ┆           ┆           ┆   ┆           ┆           ┆           ┆          │\n",
       "│ min       ┆ 1.0       ┆ 2022-03-0 ┆ 1.0       ┆ … ┆ 2022-03-0 ┆ 1.0       ┆ 2022-03-0 ┆ 0.0      │\n",
       "│           ┆           ┆ 1T00:57:4 ┆           ┆   ┆ 1T07:32:4 ┆           ┆ 1T09:53:5 ┆          │\n",
       "│           ┆           ┆ 2.892766Z ┆           ┆   ┆ 5.163218Z ┆           ┆ 5.493177Z ┆          │\n",
       "│ max       ┆ 50000.0   ┆ 2023-02-2 ┆ 491.0     ┆ … ┆ 2023-07-1 ┆ 313.0     ┆ 2023-07-1 ┆ 1.0      │\n",
       "│           ┆           ┆ 7T23:15:4 ┆           ┆   ┆ 9T22:32:1 ┆           ┆ 9T22:01:5 ┆          │\n",
       "│           ┆           ┆ 4.979948Z ┆           ┆   ┆ 4.667937Z ┆           ┆ 4.218411Z ┆          │\n",
       "│ median    ┆ 25000.5   ┆ null      ┆ 13.0      ┆ … ┆ null      ┆ 2.0       ┆ null      ┆ 0.5      │\n",
       "│ 25%       ┆ 12501.0   ┆ null      ┆ 4.0       ┆ … ┆ null      ┆ 1.0       ┆ null      ┆ null     │\n",
       "│ 75%       ┆ 37501.0   ┆ null      ┆ 42.0      ┆ … ┆ null      ┆ 4.0       ┆ null      ┆ null     │\n",
       "└───────────┴───────────┴───────────┴───────────┴───┴───────────┴───────────┴───────────┴──────────┘"
      ]
     },
     "execution_count": 2,
     "metadata": {},
     "output_type": "execute_result"
    }
   ],
   "source": [
    "df = polars.read_csv(\"../data/raw/_dataset senior data scientist_ Tech Challenge - Sheet1.csv\")\n",
    "df.describe()"
   ]
  },
  {
   "cell_type": "code",
   "execution_count": 3,
   "metadata": {},
   "outputs": [
    {
     "data": {
      "text/plain": [
       "True"
      ]
     },
     "execution_count": 3,
     "metadata": {},
     "output_type": "execute_result"
    }
   ],
   "source": [
    "df[\"USER_ID\"].n_unique() == len(df)"
   ]
  },
  {
   "cell_type": "markdown",
   "metadata": {},
   "source": [
    "Some observations:\n",
    "- Dataset is nicely balanced with respect to the training target ``churned``\n",
    "- Rest of the data is either a date or a numerical value, which should be easy to work with\n",
    "- Does not contain duplicates with respect to `USER_ID`\n",
    "- Dates are provided but we do not know about the \"date of churning\". Without expressing the times in a relative manner the model will learn potentially learn from the absolut times instead of learning from the time differences to the churning event, which will likely result in a bad generalization of the model in practice. It is probably safer to not consider these columns as features for the model in a raw fashion."
   ]
  },
  {
   "cell_type": "markdown",
   "metadata": {},
   "source": [
    "## Convert feature columns to numerical values"
   ]
  },
  {
   "cell_type": "markdown",
   "metadata": {},
   "source": [
    "- All `TOTAL_*` columns are counts and contain lots of null values. A simple approach could be to fill them with `-1` as \"lower than 0\"\n",
    "- Date can be converted to a timestamp to get an easy numerical value (may require some rescaling to be easier on the model)"
   ]
  },
  {
   "cell_type": "code",
   "execution_count": 4,
   "metadata": {},
   "outputs": [],
   "source": [
    "df = polars.read_csv(\"../data/raw/_dataset senior data scientist_ Tech Challenge - Sheet1.csv\").with_columns([\n",
    "    polars.col(\"^*_AT$\").str.to_datetime().dt.timestamp(),  # Convert all date columns to a timestamp\n",
    "    polars.col(\"^TOTAL_.*$\").fill_null(value=-1)  # Fill all count columns with zero if no data is available\n",
    "])"
   ]
  },
  {
   "cell_type": "code",
   "execution_count": 5,
   "metadata": {},
   "outputs": [
    {
     "data": {
      "text/html": [
       "<div><style>\n",
       ".dataframe > thead > tr > th,\n",
       ".dataframe > tbody > tr > td {\n",
       "  text-align: right;\n",
       "}\n",
       "</style>\n",
       "<small>shape: (9, 16)</small><table border=\"1\" class=\"dataframe\"><thead><tr><th>describe</th><th>USER_ID</th><th>REGISTRATION_AT</th><th>TOTAL_VISIT_COUNT</th><th>LAST_VISIT_AT</th><th>TOTAL_POST_COUNT</th><th>LAST_POST_AT</th><th>TOTAL_LIKES_RECEIVED</th><th>LAST_LIKE_RECEIVED_AT</th><th>TOTAL_COMMENTS_RECEIVED</th><th>LAST_COMMENT_RECEIVED_AT</th><th>TOTAL_LIKES_GIVEN</th><th>LAST_LIKE_GIVEN_AT</th><th>TOTAL_COMMENTS_WRITTEN</th><th>LAST_COMMENT_WRITTEN_AT</th><th>CHURNED</th></tr><tr><td>str</td><td>f64</td><td>f64</td><td>f64</td><td>f64</td><td>f64</td><td>f64</td><td>f64</td><td>f64</td><td>f64</td><td>f64</td><td>f64</td><td>f64</td><td>f64</td><td>f64</td><td>f64</td></tr></thead><tbody><tr><td>&quot;count&quot;</td><td>50000.0</td><td>50000.0</td><td>50000.0</td><td>50000.0</td><td>50000.0</td><td>50000.0</td><td>50000.0</td><td>50000.0</td><td>50000.0</td><td>50000.0</td><td>50000.0</td><td>50000.0</td><td>50000.0</td><td>50000.0</td><td>50000.0</td></tr><tr><td>&quot;null_count&quot;</td><td>0.0</td><td>0.0</td><td>0.0</td><td>0.0</td><td>0.0</td><td>38078.0</td><td>0.0</td><td>43607.0</td><td>0.0</td><td>41856.0</td><td>0.0</td><td>36786.0</td><td>0.0</td><td>38339.0</td><td>0.0</td></tr><tr><td>&quot;mean&quot;</td><td>25000.5</td><td>1.6622e15</td><td>37.2042</td><td>1.6788e15</td><td>-0.19872</td><td>1.6721e15</td><td>-0.17318</td><td>1.6720e15</td><td>0.39332</td><td>1.6723e15</td><td>0.6572</td><td>1.6732e15</td><td>0.20138</td><td>1.6735e15</td><td>0.5</td></tr><tr><td>&quot;std&quot;</td><td>14433.901067</td><td>8.6956e12</td><td>59.466454</td><td>1.1810e13</td><td>2.478627</td><td>1.1700e13</td><td>4.420957</td><td>1.1591e13</td><td>6.258754</td><td>1.1664e13</td><td>9.11561</td><td>1.1658e13</td><td>5.227161</td><td>1.1620e13</td><td>0.500005</td></tr><tr><td>&quot;min&quot;</td><td>1.0</td><td>1.6461e15</td><td>1.0</td><td>1.6411e15</td><td>-1.0</td><td>1.6461e15</td><td>-1.0</td><td>1.6462e15</td><td>-1.0</td><td>1.6462e15</td><td>-1.0</td><td>1.6461e15</td><td>-1.0</td><td>1.6461e15</td><td>0.0</td></tr><tr><td>&quot;max&quot;</td><td>50000.0</td><td>1.6775e15</td><td>491.0</td><td>1.6898e15</td><td>212.0</td><td>1.6898e15</td><td>384.0</td><td>1.6898e15</td><td>529.0</td><td>1.6898e15</td><td>720.0</td><td>1.6898e15</td><td>313.0</td><td>1.6898e15</td><td>1.0</td></tr><tr><td>&quot;median&quot;</td><td>25000.5</td><td>1.6619e15</td><td>13.0</td><td>1.6845e15</td><td>-1.0</td><td>1.6734e15</td><td>-1.0</td><td>1.6733e15</td><td>-1.0</td><td>1.6736e15</td><td>-1.0</td><td>1.6745e15</td><td>-1.0</td><td>1.6750e15</td><td>0.5</td></tr><tr><td>&quot;25%&quot;</td><td>12501.0</td><td>1.6553e15</td><td>4.0</td><td>1.6699e15</td><td>-1.0</td><td>1.6631e15</td><td>-1.0</td><td>1.6630e15</td><td>-1.0</td><td>1.6631e15</td><td>-1.0</td><td>1.6639e15</td><td>-1.0</td><td>1.6644e15</td><td>null</td></tr><tr><td>&quot;75%&quot;</td><td>37501.0</td><td>1.6691e15</td><td>42.0</td><td>1.6889e15</td><td>-1.0</td><td>1.6824e15</td><td>-1.0</td><td>1.6821e15</td><td>-1.0</td><td>1.6826e15</td><td>1.0</td><td>1.6836e15</td><td>-1.0</td><td>1.6839e15</td><td>null</td></tr></tbody></table></div>"
      ],
      "text/plain": [
       "shape: (9, 16)\n",
       "┌───────────┬───────────┬───────────┬───────────┬───┬───────────┬───────────┬───────────┬──────────┐\n",
       "│ describe  ┆ USER_ID   ┆ REGISTRAT ┆ TOTAL_VIS ┆ … ┆ LAST_LIKE ┆ TOTAL_COM ┆ LAST_COMM ┆ CHURNED  │\n",
       "│ ---       ┆ ---       ┆ ION_AT    ┆ IT_COUNT  ┆   ┆ _GIVEN_AT ┆ MENTS_WRI ┆ ENT_WRITT ┆ ---      │\n",
       "│ str       ┆ f64       ┆ ---       ┆ ---       ┆   ┆ ---       ┆ TTEN      ┆ EN_AT     ┆ f64      │\n",
       "│           ┆           ┆ f64       ┆ f64       ┆   ┆ f64       ┆ ---       ┆ ---       ┆          │\n",
       "│           ┆           ┆           ┆           ┆   ┆           ┆ f64       ┆ f64       ┆          │\n",
       "╞═══════════╪═══════════╪═══════════╪═══════════╪═══╪═══════════╪═══════════╪═══════════╪══════════╡\n",
       "│ count     ┆ 50000.0   ┆ 50000.0   ┆ 50000.0   ┆ … ┆ 50000.0   ┆ 50000.0   ┆ 50000.0   ┆ 50000.0  │\n",
       "│ null_coun ┆ 0.0       ┆ 0.0       ┆ 0.0       ┆ … ┆ 36786.0   ┆ 0.0       ┆ 38339.0   ┆ 0.0      │\n",
       "│ t         ┆           ┆           ┆           ┆   ┆           ┆           ┆           ┆          │\n",
       "│ mean      ┆ 25000.5   ┆ 1.6622e15 ┆ 37.2042   ┆ … ┆ 1.6732e15 ┆ 0.20138   ┆ 1.6735e15 ┆ 0.5      │\n",
       "│ std       ┆ 14433.901 ┆ 8.6956e12 ┆ 59.466454 ┆ … ┆ 1.1658e13 ┆ 5.227161  ┆ 1.1620e13 ┆ 0.500005 │\n",
       "│           ┆ 067       ┆           ┆           ┆   ┆           ┆           ┆           ┆          │\n",
       "│ min       ┆ 1.0       ┆ 1.6461e15 ┆ 1.0       ┆ … ┆ 1.6461e15 ┆ -1.0      ┆ 1.6461e15 ┆ 0.0      │\n",
       "│ max       ┆ 50000.0   ┆ 1.6775e15 ┆ 491.0     ┆ … ┆ 1.6898e15 ┆ 313.0     ┆ 1.6898e15 ┆ 1.0      │\n",
       "│ median    ┆ 25000.5   ┆ 1.6619e15 ┆ 13.0      ┆ … ┆ 1.6745e15 ┆ -1.0      ┆ 1.6750e15 ┆ 0.5      │\n",
       "│ 25%       ┆ 12501.0   ┆ 1.6553e15 ┆ 4.0       ┆ … ┆ 1.6639e15 ┆ -1.0      ┆ 1.6644e15 ┆ null     │\n",
       "│ 75%       ┆ 37501.0   ┆ 1.6691e15 ┆ 42.0      ┆ … ┆ 1.6836e15 ┆ -1.0      ┆ 1.6839e15 ┆ null     │\n",
       "└───────────┴───────────┴───────────┴───────────┴───┴───────────┴───────────┴───────────┴──────────┘"
      ]
     },
     "execution_count": 5,
     "metadata": {},
     "output_type": "execute_result"
    }
   ],
   "source": [
    "df.describe()"
   ]
  },
  {
   "cell_type": "markdown",
   "metadata": {},
   "source": [
    "## Analyzing Intercorrelations"
   ]
  },
  {
   "cell_type": "markdown",
   "metadata": {},
   "source": [
    "Checking for intercorrelations of the different columns:\n",
    "- `LAST_VISIT_AT` is strongly negatively correlated to churning, as expected. The longer the user was absent the more clear it becomes that the has grown desinterested in the product.\n",
    "- Same but less pronounced for `TOTAL_VISIT_COUNT`, which is basically reflecting the same thing.\n",
    "- There is strong correlation between the many different \"interactions\", such as `TOTAL_COMMENTS_RECEIVED` and `TOTAL_POST_COUNT` essentially expressing: users that are active are posting a lot, getting answers, giving feedback, getting feedback and so on..."
   ]
  },
  {
   "cell_type": "code",
   "execution_count": 16,
   "metadata": {},
   "outputs": [
    {
     "data": {
      "application/vnd.plotly.v1+json": {
       "config": {
        "plotlyServerURL": "https://plot.ly"
       },
       "data": [
        {
         "coloraxis": "coloraxis",
         "hovertemplate": "x: %{x}<br>y: %{y}<br>color: %{z}<extra></extra>",
         "name": "0",
         "texttemplate": "%{z}",
         "type": "heatmap",
         "x": [
          "USER_ID",
          "REGISTRATION_AT",
          "TOTAL_VISIT_COUNT",
          "LAST_VISIT_AT",
          "TOTAL_POST_COUNT",
          "LAST_POST_AT",
          "TOTAL_LIKES_RECEIVED",
          "LAST_LIKE_RECEIVED_AT",
          "TOTAL_COMMENTS_RECEIVED",
          "LAST_COMMENT_RECEIVED_AT",
          "TOTAL_LIKES_GIVEN",
          "LAST_LIKE_GIVEN_AT",
          "TOTAL_COMMENTS_WRITTEN",
          "LAST_COMMENT_WRITTEN_AT",
          "CHURNED"
         ],
         "xaxis": "x",
         "y": [
          "USER_ID",
          "REGISTRATION_AT",
          "TOTAL_VISIT_COUNT",
          "LAST_VISIT_AT",
          "TOTAL_POST_COUNT",
          "LAST_POST_AT",
          "TOTAL_LIKES_RECEIVED",
          "LAST_LIKE_RECEIVED_AT",
          "TOTAL_COMMENTS_RECEIVED",
          "LAST_COMMENT_RECEIVED_AT",
          "TOTAL_LIKES_GIVEN",
          "LAST_LIKE_GIVEN_AT",
          "TOTAL_COMMENTS_WRITTEN",
          "LAST_COMMENT_WRITTEN_AT",
          "CHURNED"
         ],
         "yaxis": "y",
         "z": [
          [
           1,
           0.9975770751990705,
           -0.17209921293377695,
           0.2633489023004962,
           -0.06267299873756592,
           null,
           -0.04026287197614526,
           null,
           -0.058042400645816304,
           null,
           -0.042130126780264315,
           null,
           -0.06158564659596166,
           null,
           -0.06609729248276926
          ],
          [
           0.9975770751990705,
           0.9999999999999999,
           -0.17324331323161965,
           0.26285745030837504,
           -0.06363798952551367,
           null,
           -0.0412813527700272,
           null,
           -0.0586414555237152,
           null,
           -0.04239142516419021,
           null,
           -0.061989486430113414,
           null,
           -0.0658977770572877
          ],
          [
           -0.17209921293377692,
           -0.17324331323161968,
           1,
           0.42798757534646065,
           0.3367822014962741,
           null,
           0.2175938621774098,
           null,
           0.27488517815928,
           null,
           0.2921469305212784,
           null,
           0.36348826628847464,
           null,
           -0.4497996071336577
          ],
          [
           0.2633489023004961,
           0.26285745030837504,
           0.4279875753464606,
           1,
           0.16544902419673316,
           null,
           0.09794103071673872,
           null,
           0.12106339994315723,
           null,
           0.11430497691225004,
           null,
           0.14338219207225453,
           null,
           -0.8103281087351986
          ],
          [
           -0.0626729987375659,
           -0.06363798952551368,
           0.3367822014962741,
           0.16544902419673316,
           0.9999999999999998,
           null,
           0.6771252833532899,
           null,
           0.7374577340190168,
           null,
           0.41052943574668715,
           null,
           0.545470763527989,
           null,
           -0.16841748513851384
          ],
          [
           null,
           null,
           null,
           null,
           null,
           null,
           null,
           null,
           null,
           null,
           null,
           null,
           null,
           null,
           null
          ],
          [
           -0.04026287197614527,
           -0.0412813527700272,
           0.21759386217740978,
           0.09794103071673874,
           0.6771252833532899,
           null,
           0.9999999999999998,
           null,
           0.6872697553376503,
           null,
           0.3972701108614388,
           null,
           0.4966756665673556,
           null,
           -0.10114201185857936
          ],
          [
           null,
           null,
           null,
           null,
           null,
           null,
           null,
           null,
           null,
           null,
           null,
           null,
           null,
           null,
           null
          ],
          [
           -0.058042400645816304,
           -0.058641455523715205,
           0.27488517815928,
           0.12106339994315723,
           0.7374577340190167,
           null,
           0.6872697553376504,
           null,
           1,
           null,
           0.4455510200110404,
           null,
           0.633813882021753,
           null,
           -0.1258346092216262
          ],
          [
           null,
           null,
           null,
           null,
           null,
           null,
           null,
           null,
           null,
           null,
           null,
           null,
           null,
           null,
           null
          ],
          [
           -0.04213012678026432,
           -0.04239142516419022,
           0.2921469305212784,
           0.11430497691225001,
           0.4105294357466872,
           null,
           0.3972701108614388,
           null,
           0.44555102001104036,
           null,
           0.9999999999999998,
           null,
           0.6410026657443161,
           null,
           -0.11924718604104376
          ],
          [
           null,
           null,
           null,
           null,
           null,
           null,
           null,
           null,
           null,
           null,
           null,
           null,
           null,
           null,
           null
          ],
          [
           -0.06158564659596166,
           -0.061989486430113414,
           0.3634882662884746,
           0.14338219207225453,
           0.545470763527989,
           null,
           0.4966756665673557,
           null,
           0.633813882021753,
           null,
           0.6410026657443161,
           null,
           0.9999999999999998,
           null,
           -0.1512231780033028
          ],
          [
           null,
           null,
           null,
           null,
           null,
           null,
           null,
           null,
           null,
           null,
           null,
           null,
           null,
           null,
           null
          ],
          [
           -0.06609729248276927,
           -0.0658977770572877,
           -0.44979960713365774,
           -0.8103281087351986,
           -0.16841748513851384,
           null,
           -0.10114201185857935,
           null,
           -0.1258346092216262,
           null,
           -0.11924718604104376,
           null,
           -0.15122317800330276,
           null,
           1
          ]
         ]
        }
       ],
       "layout": {
        "coloraxis": {
         "cmax": 1,
         "cmin": -1,
         "colorscale": [
          [
           0,
           "#0d0887"
          ],
          [
           0.1111111111111111,
           "#46039f"
          ],
          [
           0.2222222222222222,
           "#7201a8"
          ],
          [
           0.3333333333333333,
           "#9c179e"
          ],
          [
           0.4444444444444444,
           "#bd3786"
          ],
          [
           0.5555555555555556,
           "#d8576b"
          ],
          [
           0.6666666666666666,
           "#ed7953"
          ],
          [
           0.7777777777777778,
           "#fb9f3a"
          ],
          [
           0.8888888888888888,
           "#fdca26"
          ],
          [
           1,
           "#f0f921"
          ]
         ]
        },
        "margin": {
         "t": 60
        },
        "template": {
         "data": {
          "bar": [
           {
            "error_x": {
             "color": "#2a3f5f"
            },
            "error_y": {
             "color": "#2a3f5f"
            },
            "marker": {
             "line": {
              "color": "#E5ECF6",
              "width": 0.5
             },
             "pattern": {
              "fillmode": "overlay",
              "size": 10,
              "solidity": 0.2
             }
            },
            "type": "bar"
           }
          ],
          "barpolar": [
           {
            "marker": {
             "line": {
              "color": "#E5ECF6",
              "width": 0.5
             },
             "pattern": {
              "fillmode": "overlay",
              "size": 10,
              "solidity": 0.2
             }
            },
            "type": "barpolar"
           }
          ],
          "carpet": [
           {
            "aaxis": {
             "endlinecolor": "#2a3f5f",
             "gridcolor": "white",
             "linecolor": "white",
             "minorgridcolor": "white",
             "startlinecolor": "#2a3f5f"
            },
            "baxis": {
             "endlinecolor": "#2a3f5f",
             "gridcolor": "white",
             "linecolor": "white",
             "minorgridcolor": "white",
             "startlinecolor": "#2a3f5f"
            },
            "type": "carpet"
           }
          ],
          "choropleth": [
           {
            "colorbar": {
             "outlinewidth": 0,
             "ticks": ""
            },
            "type": "choropleth"
           }
          ],
          "contour": [
           {
            "colorbar": {
             "outlinewidth": 0,
             "ticks": ""
            },
            "colorscale": [
             [
              0,
              "#0d0887"
             ],
             [
              0.1111111111111111,
              "#46039f"
             ],
             [
              0.2222222222222222,
              "#7201a8"
             ],
             [
              0.3333333333333333,
              "#9c179e"
             ],
             [
              0.4444444444444444,
              "#bd3786"
             ],
             [
              0.5555555555555556,
              "#d8576b"
             ],
             [
              0.6666666666666666,
              "#ed7953"
             ],
             [
              0.7777777777777778,
              "#fb9f3a"
             ],
             [
              0.8888888888888888,
              "#fdca26"
             ],
             [
              1,
              "#f0f921"
             ]
            ],
            "type": "contour"
           }
          ],
          "contourcarpet": [
           {
            "colorbar": {
             "outlinewidth": 0,
             "ticks": ""
            },
            "type": "contourcarpet"
           }
          ],
          "heatmap": [
           {
            "colorbar": {
             "outlinewidth": 0,
             "ticks": ""
            },
            "colorscale": [
             [
              0,
              "#0d0887"
             ],
             [
              0.1111111111111111,
              "#46039f"
             ],
             [
              0.2222222222222222,
              "#7201a8"
             ],
             [
              0.3333333333333333,
              "#9c179e"
             ],
             [
              0.4444444444444444,
              "#bd3786"
             ],
             [
              0.5555555555555556,
              "#d8576b"
             ],
             [
              0.6666666666666666,
              "#ed7953"
             ],
             [
              0.7777777777777778,
              "#fb9f3a"
             ],
             [
              0.8888888888888888,
              "#fdca26"
             ],
             [
              1,
              "#f0f921"
             ]
            ],
            "type": "heatmap"
           }
          ],
          "heatmapgl": [
           {
            "colorbar": {
             "outlinewidth": 0,
             "ticks": ""
            },
            "colorscale": [
             [
              0,
              "#0d0887"
             ],
             [
              0.1111111111111111,
              "#46039f"
             ],
             [
              0.2222222222222222,
              "#7201a8"
             ],
             [
              0.3333333333333333,
              "#9c179e"
             ],
             [
              0.4444444444444444,
              "#bd3786"
             ],
             [
              0.5555555555555556,
              "#d8576b"
             ],
             [
              0.6666666666666666,
              "#ed7953"
             ],
             [
              0.7777777777777778,
              "#fb9f3a"
             ],
             [
              0.8888888888888888,
              "#fdca26"
             ],
             [
              1,
              "#f0f921"
             ]
            ],
            "type": "heatmapgl"
           }
          ],
          "histogram": [
           {
            "marker": {
             "pattern": {
              "fillmode": "overlay",
              "size": 10,
              "solidity": 0.2
             }
            },
            "type": "histogram"
           }
          ],
          "histogram2d": [
           {
            "colorbar": {
             "outlinewidth": 0,
             "ticks": ""
            },
            "colorscale": [
             [
              0,
              "#0d0887"
             ],
             [
              0.1111111111111111,
              "#46039f"
             ],
             [
              0.2222222222222222,
              "#7201a8"
             ],
             [
              0.3333333333333333,
              "#9c179e"
             ],
             [
              0.4444444444444444,
              "#bd3786"
             ],
             [
              0.5555555555555556,
              "#d8576b"
             ],
             [
              0.6666666666666666,
              "#ed7953"
             ],
             [
              0.7777777777777778,
              "#fb9f3a"
             ],
             [
              0.8888888888888888,
              "#fdca26"
             ],
             [
              1,
              "#f0f921"
             ]
            ],
            "type": "histogram2d"
           }
          ],
          "histogram2dcontour": [
           {
            "colorbar": {
             "outlinewidth": 0,
             "ticks": ""
            },
            "colorscale": [
             [
              0,
              "#0d0887"
             ],
             [
              0.1111111111111111,
              "#46039f"
             ],
             [
              0.2222222222222222,
              "#7201a8"
             ],
             [
              0.3333333333333333,
              "#9c179e"
             ],
             [
              0.4444444444444444,
              "#bd3786"
             ],
             [
              0.5555555555555556,
              "#d8576b"
             ],
             [
              0.6666666666666666,
              "#ed7953"
             ],
             [
              0.7777777777777778,
              "#fb9f3a"
             ],
             [
              0.8888888888888888,
              "#fdca26"
             ],
             [
              1,
              "#f0f921"
             ]
            ],
            "type": "histogram2dcontour"
           }
          ],
          "mesh3d": [
           {
            "colorbar": {
             "outlinewidth": 0,
             "ticks": ""
            },
            "type": "mesh3d"
           }
          ],
          "parcoords": [
           {
            "line": {
             "colorbar": {
              "outlinewidth": 0,
              "ticks": ""
             }
            },
            "type": "parcoords"
           }
          ],
          "pie": [
           {
            "automargin": true,
            "type": "pie"
           }
          ],
          "scatter": [
           {
            "fillpattern": {
             "fillmode": "overlay",
             "size": 10,
             "solidity": 0.2
            },
            "type": "scatter"
           }
          ],
          "scatter3d": [
           {
            "line": {
             "colorbar": {
              "outlinewidth": 0,
              "ticks": ""
             }
            },
            "marker": {
             "colorbar": {
              "outlinewidth": 0,
              "ticks": ""
             }
            },
            "type": "scatter3d"
           }
          ],
          "scattercarpet": [
           {
            "marker": {
             "colorbar": {
              "outlinewidth": 0,
              "ticks": ""
             }
            },
            "type": "scattercarpet"
           }
          ],
          "scattergeo": [
           {
            "marker": {
             "colorbar": {
              "outlinewidth": 0,
              "ticks": ""
             }
            },
            "type": "scattergeo"
           }
          ],
          "scattergl": [
           {
            "marker": {
             "colorbar": {
              "outlinewidth": 0,
              "ticks": ""
             }
            },
            "type": "scattergl"
           }
          ],
          "scattermapbox": [
           {
            "marker": {
             "colorbar": {
              "outlinewidth": 0,
              "ticks": ""
             }
            },
            "type": "scattermapbox"
           }
          ],
          "scatterpolar": [
           {
            "marker": {
             "colorbar": {
              "outlinewidth": 0,
              "ticks": ""
             }
            },
            "type": "scatterpolar"
           }
          ],
          "scatterpolargl": [
           {
            "marker": {
             "colorbar": {
              "outlinewidth": 0,
              "ticks": ""
             }
            },
            "type": "scatterpolargl"
           }
          ],
          "scatterternary": [
           {
            "marker": {
             "colorbar": {
              "outlinewidth": 0,
              "ticks": ""
             }
            },
            "type": "scatterternary"
           }
          ],
          "surface": [
           {
            "colorbar": {
             "outlinewidth": 0,
             "ticks": ""
            },
            "colorscale": [
             [
              0,
              "#0d0887"
             ],
             [
              0.1111111111111111,
              "#46039f"
             ],
             [
              0.2222222222222222,
              "#7201a8"
             ],
             [
              0.3333333333333333,
              "#9c179e"
             ],
             [
              0.4444444444444444,
              "#bd3786"
             ],
             [
              0.5555555555555556,
              "#d8576b"
             ],
             [
              0.6666666666666666,
              "#ed7953"
             ],
             [
              0.7777777777777778,
              "#fb9f3a"
             ],
             [
              0.8888888888888888,
              "#fdca26"
             ],
             [
              1,
              "#f0f921"
             ]
            ],
            "type": "surface"
           }
          ],
          "table": [
           {
            "cells": {
             "fill": {
              "color": "#EBF0F8"
             },
             "line": {
              "color": "white"
             }
            },
            "header": {
             "fill": {
              "color": "#C8D4E3"
             },
             "line": {
              "color": "white"
             }
            },
            "type": "table"
           }
          ]
         },
         "layout": {
          "annotationdefaults": {
           "arrowcolor": "#2a3f5f",
           "arrowhead": 0,
           "arrowwidth": 1
          },
          "autotypenumbers": "strict",
          "coloraxis": {
           "colorbar": {
            "outlinewidth": 0,
            "ticks": ""
           }
          },
          "colorscale": {
           "diverging": [
            [
             0,
             "#8e0152"
            ],
            [
             0.1,
             "#c51b7d"
            ],
            [
             0.2,
             "#de77ae"
            ],
            [
             0.3,
             "#f1b6da"
            ],
            [
             0.4,
             "#fde0ef"
            ],
            [
             0.5,
             "#f7f7f7"
            ],
            [
             0.6,
             "#e6f5d0"
            ],
            [
             0.7,
             "#b8e186"
            ],
            [
             0.8,
             "#7fbc41"
            ],
            [
             0.9,
             "#4d9221"
            ],
            [
             1,
             "#276419"
            ]
           ],
           "sequential": [
            [
             0,
             "#0d0887"
            ],
            [
             0.1111111111111111,
             "#46039f"
            ],
            [
             0.2222222222222222,
             "#7201a8"
            ],
            [
             0.3333333333333333,
             "#9c179e"
            ],
            [
             0.4444444444444444,
             "#bd3786"
            ],
            [
             0.5555555555555556,
             "#d8576b"
            ],
            [
             0.6666666666666666,
             "#ed7953"
            ],
            [
             0.7777777777777778,
             "#fb9f3a"
            ],
            [
             0.8888888888888888,
             "#fdca26"
            ],
            [
             1,
             "#f0f921"
            ]
           ],
           "sequentialminus": [
            [
             0,
             "#0d0887"
            ],
            [
             0.1111111111111111,
             "#46039f"
            ],
            [
             0.2222222222222222,
             "#7201a8"
            ],
            [
             0.3333333333333333,
             "#9c179e"
            ],
            [
             0.4444444444444444,
             "#bd3786"
            ],
            [
             0.5555555555555556,
             "#d8576b"
            ],
            [
             0.6666666666666666,
             "#ed7953"
            ],
            [
             0.7777777777777778,
             "#fb9f3a"
            ],
            [
             0.8888888888888888,
             "#fdca26"
            ],
            [
             1,
             "#f0f921"
            ]
           ]
          },
          "colorway": [
           "#636efa",
           "#EF553B",
           "#00cc96",
           "#ab63fa",
           "#FFA15A",
           "#19d3f3",
           "#FF6692",
           "#B6E880",
           "#FF97FF",
           "#FECB52"
          ],
          "font": {
           "color": "#2a3f5f"
          },
          "geo": {
           "bgcolor": "white",
           "lakecolor": "white",
           "landcolor": "#E5ECF6",
           "showlakes": true,
           "showland": true,
           "subunitcolor": "white"
          },
          "hoverlabel": {
           "align": "left"
          },
          "hovermode": "closest",
          "mapbox": {
           "style": "light"
          },
          "paper_bgcolor": "white",
          "plot_bgcolor": "#E5ECF6",
          "polar": {
           "angularaxis": {
            "gridcolor": "white",
            "linecolor": "white",
            "ticks": ""
           },
           "bgcolor": "#E5ECF6",
           "radialaxis": {
            "gridcolor": "white",
            "linecolor": "white",
            "ticks": ""
           }
          },
          "scene": {
           "xaxis": {
            "backgroundcolor": "#E5ECF6",
            "gridcolor": "white",
            "gridwidth": 2,
            "linecolor": "white",
            "showbackground": true,
            "ticks": "",
            "zerolinecolor": "white"
           },
           "yaxis": {
            "backgroundcolor": "#E5ECF6",
            "gridcolor": "white",
            "gridwidth": 2,
            "linecolor": "white",
            "showbackground": true,
            "ticks": "",
            "zerolinecolor": "white"
           },
           "zaxis": {
            "backgroundcolor": "#E5ECF6",
            "gridcolor": "white",
            "gridwidth": 2,
            "linecolor": "white",
            "showbackground": true,
            "ticks": "",
            "zerolinecolor": "white"
           }
          },
          "shapedefaults": {
           "line": {
            "color": "#2a3f5f"
           }
          },
          "ternary": {
           "aaxis": {
            "gridcolor": "white",
            "linecolor": "white",
            "ticks": ""
           },
           "baxis": {
            "gridcolor": "white",
            "linecolor": "white",
            "ticks": ""
           },
           "bgcolor": "#E5ECF6",
           "caxis": {
            "gridcolor": "white",
            "linecolor": "white",
            "ticks": ""
           }
          },
          "title": {
           "x": 0.05
          },
          "xaxis": {
           "automargin": true,
           "gridcolor": "white",
           "linecolor": "white",
           "ticks": "",
           "title": {
            "standoff": 15
           },
           "zerolinecolor": "white",
           "zerolinewidth": 2
          },
          "yaxis": {
           "automargin": true,
           "gridcolor": "white",
           "linecolor": "white",
           "ticks": "",
           "title": {
            "standoff": 15
           },
           "zerolinecolor": "white",
           "zerolinewidth": 2
          }
         }
        },
        "xaxis": {
         "anchor": "y",
         "domain": [
          0,
          1
         ]
        },
        "yaxis": {
         "anchor": "x",
         "autorange": "reversed",
         "domain": [
          0,
          1
         ]
        }
       }
      },
      "text/html": [
       "<div>                            <div id=\"28082e74-2409-4d2a-a791-4bac35943b76\" class=\"plotly-graph-div\" style=\"height:525px; width:100%;\"></div>            <script type=\"text/javascript\">                require([\"plotly\"], function(Plotly) {                    window.PLOTLYENV=window.PLOTLYENV || {};                                    if (document.getElementById(\"28082e74-2409-4d2a-a791-4bac35943b76\")) {                    Plotly.newPlot(                        \"28082e74-2409-4d2a-a791-4bac35943b76\",                        [{\"coloraxis\":\"coloraxis\",\"name\":\"0\",\"texttemplate\":\"%{z}\",\"x\":[\"USER_ID\",\"REGISTRATION_AT\",\"TOTAL_VISIT_COUNT\",\"LAST_VISIT_AT\",\"TOTAL_POST_COUNT\",\"LAST_POST_AT\",\"TOTAL_LIKES_RECEIVED\",\"LAST_LIKE_RECEIVED_AT\",\"TOTAL_COMMENTS_RECEIVED\",\"LAST_COMMENT_RECEIVED_AT\",\"TOTAL_LIKES_GIVEN\",\"LAST_LIKE_GIVEN_AT\",\"TOTAL_COMMENTS_WRITTEN\",\"LAST_COMMENT_WRITTEN_AT\",\"CHURNED\"],\"y\":[\"USER_ID\",\"REGISTRATION_AT\",\"TOTAL_VISIT_COUNT\",\"LAST_VISIT_AT\",\"TOTAL_POST_COUNT\",\"LAST_POST_AT\",\"TOTAL_LIKES_RECEIVED\",\"LAST_LIKE_RECEIVED_AT\",\"TOTAL_COMMENTS_RECEIVED\",\"LAST_COMMENT_RECEIVED_AT\",\"TOTAL_LIKES_GIVEN\",\"LAST_LIKE_GIVEN_AT\",\"TOTAL_COMMENTS_WRITTEN\",\"LAST_COMMENT_WRITTEN_AT\",\"CHURNED\"],\"z\":[[1.0,0.9975770751990705,-0.17209921293377695,0.2633489023004962,-0.06267299873756592,null,-0.04026287197614526,null,-0.058042400645816304,null,-0.042130126780264315,null,-0.06158564659596166,null,-0.06609729248276926],[0.9975770751990705,0.9999999999999999,-0.17324331323161965,0.26285745030837504,-0.06363798952551367,null,-0.0412813527700272,null,-0.0586414555237152,null,-0.04239142516419021,null,-0.061989486430113414,null,-0.0658977770572877],[-0.17209921293377692,-0.17324331323161968,1.0,0.42798757534646065,0.3367822014962741,null,0.2175938621774098,null,0.27488517815928,null,0.2921469305212784,null,0.36348826628847464,null,-0.4497996071336577],[0.2633489023004961,0.26285745030837504,0.4279875753464606,1.0,0.16544902419673316,null,0.09794103071673872,null,0.12106339994315723,null,0.11430497691225004,null,0.14338219207225453,null,-0.8103281087351986],[-0.0626729987375659,-0.06363798952551368,0.3367822014962741,0.16544902419673316,0.9999999999999998,null,0.6771252833532899,null,0.7374577340190168,null,0.41052943574668715,null,0.545470763527989,null,-0.16841748513851384],[null,null,null,null,null,null,null,null,null,null,null,null,null,null,null],[-0.04026287197614527,-0.0412813527700272,0.21759386217740978,0.09794103071673874,0.6771252833532899,null,0.9999999999999998,null,0.6872697553376503,null,0.3972701108614388,null,0.4966756665673556,null,-0.10114201185857936],[null,null,null,null,null,null,null,null,null,null,null,null,null,null,null],[-0.058042400645816304,-0.058641455523715205,0.27488517815928,0.12106339994315723,0.7374577340190167,null,0.6872697553376504,null,1.0,null,0.4455510200110404,null,0.633813882021753,null,-0.1258346092216262],[null,null,null,null,null,null,null,null,null,null,null,null,null,null,null],[-0.04213012678026432,-0.04239142516419022,0.2921469305212784,0.11430497691225001,0.4105294357466872,null,0.3972701108614388,null,0.44555102001104036,null,0.9999999999999998,null,0.6410026657443161,null,-0.11924718604104376],[null,null,null,null,null,null,null,null,null,null,null,null,null,null,null],[-0.06158564659596166,-0.061989486430113414,0.3634882662884746,0.14338219207225453,0.545470763527989,null,0.4966756665673557,null,0.633813882021753,null,0.6410026657443161,null,0.9999999999999998,null,-0.1512231780033028],[null,null,null,null,null,null,null,null,null,null,null,null,null,null,null],[-0.06609729248276927,-0.0658977770572877,-0.44979960713365774,-0.8103281087351986,-0.16841748513851384,null,-0.10114201185857935,null,-0.1258346092216262,null,-0.11924718604104376,null,-0.15122317800330276,null,1.0]],\"type\":\"heatmap\",\"xaxis\":\"x\",\"yaxis\":\"y\",\"hovertemplate\":\"x: %{x}\\u003cbr\\u003ey: %{y}\\u003cbr\\u003ecolor: %{z}\\u003cextra\\u003e\\u003c\\u002fextra\\u003e\"}],                        {\"template\":{\"data\":{\"histogram2dcontour\":[{\"type\":\"histogram2dcontour\",\"colorbar\":{\"outlinewidth\":0,\"ticks\":\"\"},\"colorscale\":[[0.0,\"#0d0887\"],[0.1111111111111111,\"#46039f\"],[0.2222222222222222,\"#7201a8\"],[0.3333333333333333,\"#9c179e\"],[0.4444444444444444,\"#bd3786\"],[0.5555555555555556,\"#d8576b\"],[0.6666666666666666,\"#ed7953\"],[0.7777777777777778,\"#fb9f3a\"],[0.8888888888888888,\"#fdca26\"],[1.0,\"#f0f921\"]]}],\"choropleth\":[{\"type\":\"choropleth\",\"colorbar\":{\"outlinewidth\":0,\"ticks\":\"\"}}],\"histogram2d\":[{\"type\":\"histogram2d\",\"colorbar\":{\"outlinewidth\":0,\"ticks\":\"\"},\"colorscale\":[[0.0,\"#0d0887\"],[0.1111111111111111,\"#46039f\"],[0.2222222222222222,\"#7201a8\"],[0.3333333333333333,\"#9c179e\"],[0.4444444444444444,\"#bd3786\"],[0.5555555555555556,\"#d8576b\"],[0.6666666666666666,\"#ed7953\"],[0.7777777777777778,\"#fb9f3a\"],[0.8888888888888888,\"#fdca26\"],[1.0,\"#f0f921\"]]}],\"heatmap\":[{\"type\":\"heatmap\",\"colorbar\":{\"outlinewidth\":0,\"ticks\":\"\"},\"colorscale\":[[0.0,\"#0d0887\"],[0.1111111111111111,\"#46039f\"],[0.2222222222222222,\"#7201a8\"],[0.3333333333333333,\"#9c179e\"],[0.4444444444444444,\"#bd3786\"],[0.5555555555555556,\"#d8576b\"],[0.6666666666666666,\"#ed7953\"],[0.7777777777777778,\"#fb9f3a\"],[0.8888888888888888,\"#fdca26\"],[1.0,\"#f0f921\"]]}],\"heatmapgl\":[{\"type\":\"heatmapgl\",\"colorbar\":{\"outlinewidth\":0,\"ticks\":\"\"},\"colorscale\":[[0.0,\"#0d0887\"],[0.1111111111111111,\"#46039f\"],[0.2222222222222222,\"#7201a8\"],[0.3333333333333333,\"#9c179e\"],[0.4444444444444444,\"#bd3786\"],[0.5555555555555556,\"#d8576b\"],[0.6666666666666666,\"#ed7953\"],[0.7777777777777778,\"#fb9f3a\"],[0.8888888888888888,\"#fdca26\"],[1.0,\"#f0f921\"]]}],\"contourcarpet\":[{\"type\":\"contourcarpet\",\"colorbar\":{\"outlinewidth\":0,\"ticks\":\"\"}}],\"contour\":[{\"type\":\"contour\",\"colorbar\":{\"outlinewidth\":0,\"ticks\":\"\"},\"colorscale\":[[0.0,\"#0d0887\"],[0.1111111111111111,\"#46039f\"],[0.2222222222222222,\"#7201a8\"],[0.3333333333333333,\"#9c179e\"],[0.4444444444444444,\"#bd3786\"],[0.5555555555555556,\"#d8576b\"],[0.6666666666666666,\"#ed7953\"],[0.7777777777777778,\"#fb9f3a\"],[0.8888888888888888,\"#fdca26\"],[1.0,\"#f0f921\"]]}],\"surface\":[{\"type\":\"surface\",\"colorbar\":{\"outlinewidth\":0,\"ticks\":\"\"},\"colorscale\":[[0.0,\"#0d0887\"],[0.1111111111111111,\"#46039f\"],[0.2222222222222222,\"#7201a8\"],[0.3333333333333333,\"#9c179e\"],[0.4444444444444444,\"#bd3786\"],[0.5555555555555556,\"#d8576b\"],[0.6666666666666666,\"#ed7953\"],[0.7777777777777778,\"#fb9f3a\"],[0.8888888888888888,\"#fdca26\"],[1.0,\"#f0f921\"]]}],\"mesh3d\":[{\"type\":\"mesh3d\",\"colorbar\":{\"outlinewidth\":0,\"ticks\":\"\"}}],\"scatter\":[{\"fillpattern\":{\"fillmode\":\"overlay\",\"size\":10,\"solidity\":0.2},\"type\":\"scatter\"}],\"parcoords\":[{\"type\":\"parcoords\",\"line\":{\"colorbar\":{\"outlinewidth\":0,\"ticks\":\"\"}}}],\"scatterpolargl\":[{\"type\":\"scatterpolargl\",\"marker\":{\"colorbar\":{\"outlinewidth\":0,\"ticks\":\"\"}}}],\"bar\":[{\"error_x\":{\"color\":\"#2a3f5f\"},\"error_y\":{\"color\":\"#2a3f5f\"},\"marker\":{\"line\":{\"color\":\"#E5ECF6\",\"width\":0.5},\"pattern\":{\"fillmode\":\"overlay\",\"size\":10,\"solidity\":0.2}},\"type\":\"bar\"}],\"scattergeo\":[{\"type\":\"scattergeo\",\"marker\":{\"colorbar\":{\"outlinewidth\":0,\"ticks\":\"\"}}}],\"scatterpolar\":[{\"type\":\"scatterpolar\",\"marker\":{\"colorbar\":{\"outlinewidth\":0,\"ticks\":\"\"}}}],\"histogram\":[{\"marker\":{\"pattern\":{\"fillmode\":\"overlay\",\"size\":10,\"solidity\":0.2}},\"type\":\"histogram\"}],\"scattergl\":[{\"type\":\"scattergl\",\"marker\":{\"colorbar\":{\"outlinewidth\":0,\"ticks\":\"\"}}}],\"scatter3d\":[{\"type\":\"scatter3d\",\"line\":{\"colorbar\":{\"outlinewidth\":0,\"ticks\":\"\"}},\"marker\":{\"colorbar\":{\"outlinewidth\":0,\"ticks\":\"\"}}}],\"scattermapbox\":[{\"type\":\"scattermapbox\",\"marker\":{\"colorbar\":{\"outlinewidth\":0,\"ticks\":\"\"}}}],\"scatterternary\":[{\"type\":\"scatterternary\",\"marker\":{\"colorbar\":{\"outlinewidth\":0,\"ticks\":\"\"}}}],\"scattercarpet\":[{\"type\":\"scattercarpet\",\"marker\":{\"colorbar\":{\"outlinewidth\":0,\"ticks\":\"\"}}}],\"carpet\":[{\"aaxis\":{\"endlinecolor\":\"#2a3f5f\",\"gridcolor\":\"white\",\"linecolor\":\"white\",\"minorgridcolor\":\"white\",\"startlinecolor\":\"#2a3f5f\"},\"baxis\":{\"endlinecolor\":\"#2a3f5f\",\"gridcolor\":\"white\",\"linecolor\":\"white\",\"minorgridcolor\":\"white\",\"startlinecolor\":\"#2a3f5f\"},\"type\":\"carpet\"}],\"table\":[{\"cells\":{\"fill\":{\"color\":\"#EBF0F8\"},\"line\":{\"color\":\"white\"}},\"header\":{\"fill\":{\"color\":\"#C8D4E3\"},\"line\":{\"color\":\"white\"}},\"type\":\"table\"}],\"barpolar\":[{\"marker\":{\"line\":{\"color\":\"#E5ECF6\",\"width\":0.5},\"pattern\":{\"fillmode\":\"overlay\",\"size\":10,\"solidity\":0.2}},\"type\":\"barpolar\"}],\"pie\":[{\"automargin\":true,\"type\":\"pie\"}]},\"layout\":{\"autotypenumbers\":\"strict\",\"colorway\":[\"#636efa\",\"#EF553B\",\"#00cc96\",\"#ab63fa\",\"#FFA15A\",\"#19d3f3\",\"#FF6692\",\"#B6E880\",\"#FF97FF\",\"#FECB52\"],\"font\":{\"color\":\"#2a3f5f\"},\"hovermode\":\"closest\",\"hoverlabel\":{\"align\":\"left\"},\"paper_bgcolor\":\"white\",\"plot_bgcolor\":\"#E5ECF6\",\"polar\":{\"bgcolor\":\"#E5ECF6\",\"angularaxis\":{\"gridcolor\":\"white\",\"linecolor\":\"white\",\"ticks\":\"\"},\"radialaxis\":{\"gridcolor\":\"white\",\"linecolor\":\"white\",\"ticks\":\"\"}},\"ternary\":{\"bgcolor\":\"#E5ECF6\",\"aaxis\":{\"gridcolor\":\"white\",\"linecolor\":\"white\",\"ticks\":\"\"},\"baxis\":{\"gridcolor\":\"white\",\"linecolor\":\"white\",\"ticks\":\"\"},\"caxis\":{\"gridcolor\":\"white\",\"linecolor\":\"white\",\"ticks\":\"\"}},\"coloraxis\":{\"colorbar\":{\"outlinewidth\":0,\"ticks\":\"\"}},\"colorscale\":{\"sequential\":[[0.0,\"#0d0887\"],[0.1111111111111111,\"#46039f\"],[0.2222222222222222,\"#7201a8\"],[0.3333333333333333,\"#9c179e\"],[0.4444444444444444,\"#bd3786\"],[0.5555555555555556,\"#d8576b\"],[0.6666666666666666,\"#ed7953\"],[0.7777777777777778,\"#fb9f3a\"],[0.8888888888888888,\"#fdca26\"],[1.0,\"#f0f921\"]],\"sequentialminus\":[[0.0,\"#0d0887\"],[0.1111111111111111,\"#46039f\"],[0.2222222222222222,\"#7201a8\"],[0.3333333333333333,\"#9c179e\"],[0.4444444444444444,\"#bd3786\"],[0.5555555555555556,\"#d8576b\"],[0.6666666666666666,\"#ed7953\"],[0.7777777777777778,\"#fb9f3a\"],[0.8888888888888888,\"#fdca26\"],[1.0,\"#f0f921\"]],\"diverging\":[[0,\"#8e0152\"],[0.1,\"#c51b7d\"],[0.2,\"#de77ae\"],[0.3,\"#f1b6da\"],[0.4,\"#fde0ef\"],[0.5,\"#f7f7f7\"],[0.6,\"#e6f5d0\"],[0.7,\"#b8e186\"],[0.8,\"#7fbc41\"],[0.9,\"#4d9221\"],[1,\"#276419\"]]},\"xaxis\":{\"gridcolor\":\"white\",\"linecolor\":\"white\",\"ticks\":\"\",\"title\":{\"standoff\":15},\"zerolinecolor\":\"white\",\"automargin\":true,\"zerolinewidth\":2},\"yaxis\":{\"gridcolor\":\"white\",\"linecolor\":\"white\",\"ticks\":\"\",\"title\":{\"standoff\":15},\"zerolinecolor\":\"white\",\"automargin\":true,\"zerolinewidth\":2},\"scene\":{\"xaxis\":{\"backgroundcolor\":\"#E5ECF6\",\"gridcolor\":\"white\",\"linecolor\":\"white\",\"showbackground\":true,\"ticks\":\"\",\"zerolinecolor\":\"white\",\"gridwidth\":2},\"yaxis\":{\"backgroundcolor\":\"#E5ECF6\",\"gridcolor\":\"white\",\"linecolor\":\"white\",\"showbackground\":true,\"ticks\":\"\",\"zerolinecolor\":\"white\",\"gridwidth\":2},\"zaxis\":{\"backgroundcolor\":\"#E5ECF6\",\"gridcolor\":\"white\",\"linecolor\":\"white\",\"showbackground\":true,\"ticks\":\"\",\"zerolinecolor\":\"white\",\"gridwidth\":2}},\"shapedefaults\":{\"line\":{\"color\":\"#2a3f5f\"}},\"annotationdefaults\":{\"arrowcolor\":\"#2a3f5f\",\"arrowhead\":0,\"arrowwidth\":1},\"geo\":{\"bgcolor\":\"white\",\"landcolor\":\"#E5ECF6\",\"subunitcolor\":\"white\",\"showland\":true,\"showlakes\":true,\"lakecolor\":\"white\"},\"title\":{\"x\":0.05},\"mapbox\":{\"style\":\"light\"}}},\"xaxis\":{\"anchor\":\"y\",\"domain\":[0.0,1.0]},\"yaxis\":{\"anchor\":\"x\",\"domain\":[0.0,1.0],\"autorange\":\"reversed\"},\"coloraxis\":{\"colorscale\":[[0.0,\"#0d0887\"],[0.1111111111111111,\"#46039f\"],[0.2222222222222222,\"#7201a8\"],[0.3333333333333333,\"#9c179e\"],[0.4444444444444444,\"#bd3786\"],[0.5555555555555556,\"#d8576b\"],[0.6666666666666666,\"#ed7953\"],[0.7777777777777778,\"#fb9f3a\"],[0.8888888888888888,\"#fdca26\"],[1.0,\"#f0f921\"]],\"cmin\":-1.0,\"cmax\":1.0},\"margin\":{\"t\":60}},                        {\"responsive\": true}                    ).then(function(){\n",
       "                            \n",
       "var gd = document.getElementById('28082e74-2409-4d2a-a791-4bac35943b76');\n",
       "var x = new MutationObserver(function (mutations, observer) {{\n",
       "        var display = window.getComputedStyle(gd).display;\n",
       "        if (!display || display === 'none') {{\n",
       "            console.log([gd, 'removed!']);\n",
       "            Plotly.purge(gd);\n",
       "            observer.disconnect();\n",
       "        }}\n",
       "}});\n",
       "\n",
       "// Listen for the removal of the full notebook cells\n",
       "var notebookContainer = gd.closest('#notebook-container');\n",
       "if (notebookContainer) {{\n",
       "    x.observe(notebookContainer, {childList: true});\n",
       "}}\n",
       "\n",
       "// Listen for the clearing of the current output cell\n",
       "var outputEl = gd.closest('.output');\n",
       "if (outputEl) {{\n",
       "    x.observe(outputEl, {childList: true});\n",
       "}}\n",
       "\n",
       "                        })                };                });            </script>        </div>"
      ]
     },
     "metadata": {},
     "output_type": "display_data"
    }
   ],
   "source": [
    "fig = px.imshow(\n",
    "    df.corr(), \n",
    "    zmin=-1.0, \n",
    "    zmax=1.0,\n",
    "    text_auto=True, \n",
    "    aspect=\"auto\",\n",
    "    y=df.columns\n",
    ")\n",
    "fig.show()"
   ]
  },
  {
   "cell_type": "markdown",
   "metadata": {},
   "source": [
    "## Addressing the Datetime Columns Concern"
   ]
  },
  {
   "cell_type": "markdown",
   "metadata": {},
   "source": [
    "The datetime columns are very problematic for generating a good model in the real world. In particular, if the model learns a connection along the line of \"users whose last login was prior to data X are likely to churn\" it is incapable to adapt to absolute times in future cases. In particular, for a model trained on data months old, data X might not seem to inidicate churning, while in reality the last login was long ago and churning is indeed likely. The best remedy would be to express the dates relative to when the churning was detected or concluded. This way we could train a model that predicts the probability of churning \"today\". However, since this is not possible I rather opt for droping this columns all together for the baseline model. A more sophisticated model may attempt to build sensible features from the time differences between, e.g., `REGISTRATION_AT` and `LAST_VISIT_AT` ..."
   ]
  },
  {
   "cell_type": "markdown",
   "metadata": {},
   "source": [
    "## Simple Date-Agnostic Baseline Model"
   ]
  },
  {
   "cell_type": "code",
   "execution_count": 22,
   "metadata": {},
   "outputs": [],
   "source": [
    "train_data = (\n",
    "    df.select([\n",
    "        polars.col(\"^TOTAL_.*$\"), \n",
    "        polars.col(\"CHURNED\")]\n",
    "    )\n",
    "    .with_columns([polars.col(\"CHURNED\").cast(polars.Int8)])\n",
    "    .rename(dict(CHURNED=\"label\"))\n",
    ")\n",
    "train_df, test_df = train_test_split(train_data, test_size=0.2)\n",
    "train_features = train_df.drop(\"label\")\n",
    "train_label = train_df[\"label\"]\n",
    "test_features = test_df.drop(\"label\")\n",
    "test_label = test_df[\"label\"]"
   ]
  },
  {
   "cell_type": "code",
   "execution_count": 31,
   "metadata": {},
   "outputs": [
    {
     "name": "stdout",
     "output_type": "stream",
     "text": [
      "TRAIN - Classification Report\n",
      "              precision    recall  f1-score   support\n",
      "\n",
      "           0       0.85      0.81      0.83     19954\n",
      "           1       0.82      0.86      0.84     20046\n",
      "\n",
      "    accuracy                           0.83     40000\n",
      "   macro avg       0.84      0.83      0.83     40000\n",
      "weighted avg       0.84      0.83      0.83     40000\n",
      "\n",
      "TEST - Classification Report\n",
      "              precision    recall  f1-score   support\n",
      "\n",
      "           0       0.79      0.77      0.78      5046\n",
      "           1       0.77      0.79      0.78      4954\n",
      "\n",
      "    accuracy                           0.78     10000\n",
      "   macro avg       0.78      0.78      0.78     10000\n",
      "weighted avg       0.78      0.78      0.78     10000\n",
      "\n",
      "FEATURE IMPORTANCE\n",
      "             TOTAL_VISIT_COUNT: 0.7245491548971829\n",
      "              TOTAL_POST_COUNT: 0.026173787772303184\n",
      "          TOTAL_LIKES_RECEIVED: 0.035239642170787136\n",
      "       TOTAL_COMMENTS_RECEIVED: 0.04582754390385835\n",
      "             TOTAL_LIKES_GIVEN: 0.08415966141607008\n",
      "        TOTAL_COMMENTS_WRITTEN: 0.08405020983979848\n"
     ]
    }
   ],
   "source": [
    "random_forest_clf = RandomForestClassifier()\n",
    "random_forest_clf.fit(train_features, train_label)\n",
    "print(\"TRAIN - Classification Report\")\n",
    "print(classification_report(train_label, random_forest_clf.predict(train_features)))\n",
    "print(\"TEST - Classification Report\")\n",
    "print(classification_report(test_label, random_forest_clf.predict(test_features)))\n",
    "print(\"FEATURE IMPORTANCE\")\n",
    "for feature, importance in zip(train_df.columns, random_forest_clf.feature_importances_):\n",
    "    print(f\"{feature:>30}: {importance}\")"
   ]
  },
  {
   "cell_type": "markdown",
   "metadata": {},
   "source": [
    "Already with a very simple model, we can achieve quite useful performance with about `~78%`  test F1 score. This is mostly leveraged by the `TOTAL_VISIT_COUNT`, basically identifying that users that visit frequently are less likely to churn from the platform, as they are invested.\n",
    "\n",
    "Some important remarks:\n",
    "- here would be the time when business decisions matter: What is the churn mitigation strategy? If it is cheap, we likely care about the `recall` as we want to attempt to prevent churn on all potential users that are prone to churning. However, if the prevention strategy is expensive, we may care more about the `precision` to ensure that the effort to prevent churning is going to the users that are most likely to churn.\n",
    "- In fact, talking about prevention strategy, it might be more useful to identify users that are likely to change their mind if we engage in some prevention strategy. Essentially distinguishing churning users between \"can be saved\" and \"beyond saving\". \n",
    "- There is so much more to consider that it would take forever to spell out. If you are interested in my thoughts, feel free to contact me."
   ]
  },
  {
   "cell_type": "markdown",
   "metadata": {},
   "source": []
  }
 ],
 "metadata": {
  "kernelspec": {
   "display_name": "venv",
   "language": "python",
   "name": "python3"
  },
  "language_info": {
   "codemirror_mode": {
    "name": "ipython",
    "version": 3
   },
   "file_extension": ".py",
   "mimetype": "text/x-python",
   "name": "python",
   "nbconvert_exporter": "python",
   "pygments_lexer": "ipython3",
   "version": "3.10.6"
  },
  "orig_nbformat": 4
 },
 "nbformat": 4,
 "nbformat_minor": 2
}
